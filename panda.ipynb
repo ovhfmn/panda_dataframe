{
 "cells": [
  {
   "metadata": {},
   "cell_type": "code",
   "source": "import pandas as pd",
   "id": "a2d5a63fb90a1b8b",
   "outputs": [],
   "execution_count": null
  },
  {
   "metadata": {},
   "cell_type": "code",
   "source": [
    "# Loading Dictionary as a DataFrame\n",
    "x = {'name': ['Alex Red', 'Ben Brown', 'Cindy Grey', 'Den Yellow', 'Evan Black'],\n",
    "     'age': [22, 45, 23, 32, 38],\n",
    "     'city': ['Dnipro', 'Dallas', 'Pineville', 'Yorkshire', 'Sunton']}\n",
    "\n",
    "df = pd.DataFrame(x)\n",
    "df"
   ],
   "id": "e9308cda1343fc78",
   "outputs": [],
   "execution_count": null
  },
  {
   "metadata": {},
   "cell_type": "code",
   "source": [
    "# Retrieving column 'city'\n",
    "x = df[['city']]\n",
    "x"
   ],
   "id": "5aac2acfa6d609f2",
   "outputs": [],
   "execution_count": null
  },
  {
   "metadata": {},
   "cell_type": "code",
   "source": [
    "# Retrieving [row] by index\n",
    "x = df.iloc()[1]\n",
    "x"
   ],
   "id": "58da2a2617136e4c",
   "outputs": [],
   "execution_count": null
  },
  {
   "metadata": {},
   "cell_type": "code",
   "source": [
    "# Retrieving Cell's value by index[row][column]\n",
    "x = df.iloc()[1][0]\n",
    "x"
   ],
   "id": "6a8f24950684067d",
   "outputs": [],
   "execution_count": null
  },
  {
   "metadata": {},
   "cell_type": "code",
   "source": [
    "# Type of the cell\n",
    "type(x)"
   ],
   "id": "669ed6926eac0d2",
   "outputs": [],
   "execution_count": null
  },
  {
   "metadata": {},
   "cell_type": "code",
   "source": [
    "# Multiple columns, with changed order\n",
    "x = df[['age', 'city']]\n",
    "x"
   ],
   "id": "9b07d703a693fa9d",
   "outputs": [],
   "execution_count": null
  },
  {
   "metadata": {},
   "cell_type": "code",
   "source": [
    "# Reading from file\n",
    "ttnc = pd.read_csv('titanic.csv')\n",
    "ttnc.head()\n"
   ],
   "id": "af92244b3822b9f4",
   "outputs": [],
   "execution_count": null
  },
  {
   "metadata": {},
   "cell_type": "code",
   "source": [
    "# Creating subframe with specified columns\n",
    "titanic_h = ttnc.head()[['Name', 'Sex', 'Age', 'Survived', 'Pclass']]\n",
    "titanic_h"
   ],
   "id": "84e8fcc5540325cc",
   "outputs": [],
   "execution_count": null
  },
  {
   "metadata": {},
   "cell_type": "code",
   "source": [
    "# Getting row by index\n",
    "titanic_h.iloc[0]"
   ],
   "id": "92961a2856a8eefa",
   "outputs": [],
   "execution_count": null
  },
  {
   "metadata": {},
   "cell_type": "code",
   "source": [
    "# Retrieving [row_index, [col1, col2]]\n",
    "titanic_h.loc[1, ['Sex', 'Age']]"
   ],
   "id": "3a6b6088620be069",
   "outputs": [],
   "execution_count": null
  },
  {
   "metadata": {},
   "cell_type": "code",
   "source": [
    "# Creating subframe by index range for both [row, cols]\n",
    "ttnc.iloc[0:10, 3:6]"
   ],
   "id": "b9665563e7f88b95",
   "outputs": [],
   "execution_count": null
  },
  {
   "metadata": {},
   "cell_type": "code",
   "source": [
    "# Creating subframe by [row_indexes, col_names]\n",
    "ttnc.loc[0:3, 'Pclass':'Age']"
   ],
   "id": "382cc110c80c5b93",
   "outputs": [],
   "execution_count": null
  }
 ],
 "metadata": {
  "kernelspec": {
   "display_name": "Python 3",
   "language": "python",
   "name": "python3"
  },
  "language_info": {
   "codemirror_mode": {
    "name": "ipython",
    "version": 2
   },
   "file_extension": ".py",
   "mimetype": "text/x-python",
   "name": "python",
   "nbconvert_exporter": "python",
   "pygments_lexer": "ipython2",
   "version": "2.7.6"
  }
 },
 "nbformat": 4,
 "nbformat_minor": 5
}
